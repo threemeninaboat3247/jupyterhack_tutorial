{
 "cells": [
  {
   "cell_type": "markdown",
   "metadata": {},
   "source": [
    "# Tutorial for jupyterhack\n",
    "実験データやグラフ等をまとめてファイル化するパッケージjupyterhackのチュートリアルです。\n",
    "\n",
    "それぞれのセルはshift+Enterで実行可能です。\n",
    "\n",
    "## 0 準備\n",
    "### 0.0 インストール\n",
    "anacondaのプロンプトで以下のコマンドを打つことでインストールできます。\n",
    "\n",
    "`conda install -c threemeninaboat3247 jupyterhack`\n",
    "\n",
    "### 0.1 Jupyter側の準備\n",
    "jupyterhackはPyQt5というGUIパッケージを使用しており、これを使うことをJupyterに宣言する必要があります。\n"
   ]
  },
  {
   "cell_type": "code",
   "execution_count": 1,
   "metadata": {
    "collapsed": true
   },
   "outputs": [],
   "source": [
    "%gui qt"
   ]
  },
  {
   "cell_type": "markdown",
   "metadata": {},
   "source": [
    "jhという名前でjupyterhackを`import`することで以降はjhという名前でパッケージにアクセス可能になります。"
   ]
  },
  {
   "cell_type": "code",
   "execution_count": 2,
   "metadata": {
    "collapsed": true
   },
   "outputs": [],
   "source": [
    "import jupyterhack as jh"
   ]
  },
  {
   "cell_type": "markdown",
   "metadata": {},
   "source": [
    "## 1 主な機能\n",
    "jupyterhackが提供する主な機能はグラフやデータのファイル化です。ユーザはツリー構造にてデータを保持するデータブラウザに様々なデータやグラフを追加していき、それらをまとめてファイル化することができます。\n",
    "\n",
    "### 1.0 データブラウザを作成する\n",
    "`getRoot()`でデータブラウザを作成することができます。ダイアログが開くので適当な場所にファイルを作成して下さい。以下では作成したデータブラウザを`r`という変数で受けています。"
   ]
  },
  {
   "cell_type": "code",
   "execution_count": 3,
   "metadata": {
    "collapsed": false
   },
   "outputs": [],
   "source": [
    "r=jh.getRoot()"
   ]
  },
  {
   "cell_type": "markdown",
   "metadata": {},
   "source": [
    "### 1.1 フォルダと作業フォルダ\n",
    "データブラウザに追加するデータはフォルダにいれてまとめて管理することが出来ます。フォルダはデータブラウザ上の青いボダンで追加と削除が行え、typeという列でfolderと表示されます。\n",
    "\n",
    "このfolderという文字をダブルクリックすることでそのフォルダを作業フォルダに設定することができ、作業フォルダへはコードから`r.cur`でアクセスすることが出来ます。（`r`はデータブラウザを受けた変数名なので変わり得る）\n",
    "\n",
    "作業フォルダはピンク色でハイライトされます。"
   ]
  },
  {
   "cell_type": "markdown",
   "metadata": {},
   "source": [
    "### 1.2 データやグラフの追加\n",
    "データブラウザ内のフォルダにはpickleというモジュールでファイル化できるデータ（自作クラス等でない限りは大体大丈夫）を追加することが出来ます。グラフは後に述べるjupyterhackで用意したクラスを使って下さい\n",
    "\n",
    "文字列を作成してデータブラウザに追加してみましょう。"
   ]
  },
  {
   "cell_type": "code",
   "execution_count": 4,
   "metadata": {
    "collapsed": true
   },
   "outputs": [],
   "source": [
    "test='This is a string'"
   ]
  },
  {
   "cell_type": "markdown",
   "metadata": {},
   "source": [
    "データの追加にはフォルダの`add`メソッドを用います。"
   ]
  },
  {
   "cell_type": "code",
   "execution_count": 5,
   "metadata": {
    "collapsed": true
   },
   "outputs": [],
   "source": [
    "r.cur.add(test)"
   ]
  },
  {
   "cell_type": "markdown",
   "metadata": {},
   "source": [
    "作業フォルダにtestというラベルで文字列が追加されたと思います。この文字列には次のように`r.cur`+`ラベル名`でアクセスすることが出来ます。"
   ]
  },
  {
   "cell_type": "code",
   "execution_count": 6,
   "metadata": {
    "collapsed": false
   },
   "outputs": [
    {
     "data": {
      "text/plain": [
       "'This is a string'"
      ]
     },
     "execution_count": 6,
     "metadata": {},
     "output_type": "execute_result"
    }
   ],
   "source": [
    "r.cur.test"
   ]
  },
  {
   "cell_type": "markdown",
   "metadata": {},
   "source": [
    "フォルダやデータのラベル名はダブルクリックすることで変更可能です。またドラッグアンドドロップで別のフォルダへ移動することも可能です。"
   ]
  },
  {
   "cell_type": "markdown",
   "metadata": {},
   "source": [
    "### 1.3 csvファイルの読み込み\n",
    "`r.cur`へはcsvファイルから直接データを読み込むことも可能です。このチュートリアルに添付してあるファイルからデータを読み込んでみましょう。以下のコマンドでダイアログが開くのでraw_dataフォルダ内にあるファイルを指定して下さい。（Ctrlを押しながらクリックで複数選択可能）"
   ]
  },
  {
   "cell_type": "code",
   "execution_count": 7,
   "metadata": {
    "collapsed": true
   },
   "outputs": [],
   "source": [
    "r.cur.loadFiles()"
   ]
  },
  {
   "cell_type": "markdown",
   "metadata": {},
   "source": [
    "指定したファイル名でラベルされたフォルダが作業フォルダ内に作成されて、その中に各データがpandasというモジュールのSeriesというクラスとして入っています。"
   ]
  },
  {
   "cell_type": "markdown",
   "metadata": {},
   "source": [
    "### 1.4 セーブ\n",
    "以下のコマンドでデータブラウザを作成する時に指定した場所へとデータのファイル化が行われ、一度Jupyterを閉じた後も再度データブラウザ内に追加したデータを復元することができます。"
   ]
  },
  {
   "cell_type": "code",
   "execution_count": 8,
   "metadata": {
    "collapsed": false
   },
   "outputs": [
    {
     "name": "stdout",
     "output_type": "stream",
     "text": [
      "Saved To::\n",
      "C:/Users/Yuki/Dropbox/python/Analysis/Tutorial/tutorial.jh\n"
     ]
    }
   ],
   "source": [
    "r.save()"
   ]
  },
  {
   "cell_type": "markdown",
   "metadata": {},
   "source": [
    "`r.save(True)`とするとダイアログが開いて新しい場所へファイルを作ってセーブすることが出来ます。"
   ]
  },
  {
   "cell_type": "markdown",
   "metadata": {},
   "source": [
    "### 1.5 再読み込み\n",
    "作成したファイルの復元は`getRoot()`で開くダイアログでファイルを指定することで行われます。"
   ]
  },
  {
   "cell_type": "code",
   "execution_count": 9,
   "metadata": {
    "collapsed": false
   },
   "outputs": [],
   "source": [
    "r=jh.getRoot()"
   ]
  },
  {
   "cell_type": "markdown",
   "metadata": {},
   "source": [
    "## 2 グラフ\n",
    "データブラウザに追加するグラフとしてjupyterhackにはGraphWindowというクラスが定義されています。GraphWindowは入っているフォルダの折り畳みの切り替えによって表示、非表示を切り替えることが出来ます。\n",
    "\n",
    "### 2.0 グラフウィンドウの作成\n",
    "以下のようにして空のグラフウィンドウを作成することが出来ます。"
   ]
  },
  {
   "cell_type": "code",
   "execution_count": 4,
   "metadata": {
    "collapsed": false
   },
   "outputs": [],
   "source": [
    "graph=jh.GraphWindow()"
   ]
  },
  {
   "cell_type": "markdown",
   "metadata": {},
   "source": [
    "### 2.1 プロット\n",
    "先程ファイルから読み込んだデータ（Biの電気抵抗）をプロットしてみましょう。赤文字のfolderをダブルクリックして作業フォルダを`Bi_arai_161024.txt`にして下さい。以下のようにして先程作成した空のグラフウィンドウへBiの電気抵抗の圧力依存性をプロットすることが出来ます。"
   ]
  },
  {
   "cell_type": "code",
   "execution_count": 6,
   "metadata": {
    "collapsed": false
   },
   "outputs": [],
   "source": [
    "graph.plot(r.cur.pressure,r.cur.resistivity,marker='o',color='r',mew=0)"
   ]
  },
  {
   "cell_type": "markdown",
   "metadata": {},
   "source": [
    "`plot`メソッドに渡す変数はmatplotlibというグラフパッケージのmatplotlib.pyplot.plotに渡す変数と同じです。[ここ](http://matplotlib.org/api/pyplot_api.html?highlight=plot#module-matplotlib.pyplot)を参照してください。"
   ]
  },
  {
   "cell_type": "markdown",
   "metadata": {},
   "source": [
    "### 2.2 グラフィカルなデータ点の選択\n",
    "GraphWindowには指定したデータ点の座標を取得するための方法が用意されています。\n",
    "\n",
    "#### 2.2.0 一点選択\n",
    "GraphWindowのツールバーの右側にあるpointerを押すと下部にx,y座標を表示するボックスが現れます。グラフ上の点をクリックするとその座標が表示されます。キーボードの左右キーで点を左右に移動させることが出来ます。\n",
    "\n",
    "#### 2.2.1 複数点の選択\n",
    "同様にツールバーのlassoを使うと複数の点の座標を取得できます。lassoを押した後にグラフをグラフをクリックするとグラフ全体が半透明になります。この状態でマウスをドラッグするとその曲線で囲まれた領域内の点が選択状態になります。選択されている点とそれ以外の点の座標はそれぞれ次のコマンドで取得することが出来ます。"
   ]
  },
  {
   "cell_type": "code",
   "execution_count": 7,
   "metadata": {
    "collapsed": false,
    "scrolled": true
   },
   "outputs": [
    {
     "data": {
      "text/plain": [
       "array([[ 0.34184399,  0.00736718]])"
      ]
     },
     "execution_count": 7,
     "metadata": {},
     "output_type": "execute_result"
    }
   ],
   "source": [
    "graph.getSelected()"
   ]
  },
  {
   "cell_type": "code",
   "execution_count": 8,
   "metadata": {
    "collapsed": false
   },
   "outputs": [
    {
     "data": {
      "text/plain": [
       "array([[  1.97565479e-02,   8.75423110e-03],\n",
       "       [  1.97414961e-02,   8.75456360e-03],\n",
       "       [  1.97487463e-02,   8.75456360e-03],\n",
       "       ..., \n",
       "       [  1.45925041e+00,   1.36174290e-03],\n",
       "       [  1.45923238e+00,   1.36076070e-03],\n",
       "       [  1.45920218e+00,   1.36054160e-03]])"
      ]
     },
     "execution_count": 8,
     "metadata": {},
     "output_type": "execute_result"
    }
   ],
   "source": [
    "graph.getUnSelected()"
   ]
  },
  {
   "cell_type": "markdown",
   "metadata": {},
   "source": [
    "### 2.3 フォルダへの追加\n",
    "以下のコマンドで作業フォルダにグラフを追加して作業フォルダを畳んで再度展開してみてください。グラフの表示、非表示が切り替わります。"
   ]
  },
  {
   "cell_type": "code",
   "execution_count": 9,
   "metadata": {
    "collapsed": false
   },
   "outputs": [],
   "source": [
    "r.cur.add(graph)"
   ]
  },
  {
   "cell_type": "markdown",
   "metadata": {},
   "source": [
    "## 3 関数\n",
    "まだ数は少ないですがjupyterhackに用意されている関数について説明します。\n",
    "\n",
    "### 3.0 微分\n",
    "二つの要素数が同じ数列（listやnumpy.array)があった時にdy/dxを求めるには`differentiate(x,y)`を使います。Biの電気抵抗を圧力で微分してみましょう。"
   ]
  },
  {
   "cell_type": "code",
   "execution_count": 10,
   "metadata": {
    "collapsed": false
   },
   "outputs": [],
   "source": [
    "result=jh.differentiate(r.cur.pressure,r.cur.resistivity)"
   ]
  },
  {
   "cell_type": "code",
   "execution_count": 11,
   "metadata": {
    "collapsed": false,
    "scrolled": true
   },
   "outputs": [
    {
     "data": {
      "text/plain": [
       "{'df': array([ 1.80483365,  0.32923112,  0.23752053, ...,  0.27013947,\n",
       "         0.29254578,  0.64247531]),\n",
       " 'sorted_xs': array([ 0.0196703 ,  0.01967153,  0.0196717 , ...,  1.45967949,\n",
       "         1.45968238,  1.45968338]),\n",
       " 'sorted_ys': array([ 0.00875206,  0.00875265,  0.0087557 , ...,  0.0013613 ,\n",
       "         0.00136464,  0.00136323])}"
      ]
     },
     "execution_count": 11,
     "metadata": {},
     "output_type": "execute_result"
    }
   ],
   "source": [
    "result"
   ]
  },
  {
   "cell_type": "markdown",
   "metadata": {},
   "source": [
    "返り値について説明すると、'sorted_xs','sorted_ys'というはx,yの対応を保ったままxの昇順に並べ変えたものです。各点での微分はその点と前後の数点を含めた点について最小二乗法でフィッティングしてその傾きを微分値としているため並べ変えが必要です。'df'というのが結果です。結果をフォルダに追加して抵抗値とその微分値のグラフを並べてプロットするには次のようにします。"
   ]
  },
  {
   "cell_type": "code",
   "execution_count": 12,
   "metadata": {
    "collapsed": true
   },
   "outputs": [],
   "source": [
    "r.cur.add(result['df'],'dR/dpress')"
   ]
  },
  {
   "cell_type": "code",
   "execution_count": 14,
   "metadata": {
    "collapsed": false
   },
   "outputs": [],
   "source": [
    "r.cur.add(result['sorted_xs'],'sorted_pressure')"
   ]
  },
  {
   "cell_type": "code",
   "execution_count": 15,
   "metadata": {
    "collapsed": false
   },
   "outputs": [],
   "source": [
    "g=jh.GraphWindow()"
   ]
  },
  {
   "cell_type": "code",
   "execution_count": 16,
   "metadata": {
    "collapsed": true
   },
   "outputs": [],
   "source": [
    "ax=g.fig.add_subplot(211)\n",
    "ax2=g.fig.add_subplot(212)\n",
    "ax.set_title('Bi_first')\n",
    "ax.plot(r.cur.get('pressure'),r.cur.get('resistivity'),'-o',color='r',mec='None',picker=5)\n",
    "ax.set_xlabel('pressure/V')\n",
    "ax.set_ylabel('Resistance/V')\n",
    "ax2.plot(r.cur.get('sorted_pressure'),r.cur.get('dR/dpress'),'-',color='k',mec='None',picker=5)\n",
    "ax2.set_ylabel('dR/dpress')\n",
    "g.setWindowTitle('Bi_first')\n",
    "g.canvas.draw()"
   ]
  },
  {
   "cell_type": "code",
   "execution_count": 17,
   "metadata": {
    "collapsed": false
   },
   "outputs": [],
   "source": [
    "r.cur.add(g)"
   ]
  },
  {
   "cell_type": "markdown",
   "metadata": {},
   "source": [
    "### 3.1 自作関数の定義\n",
    "サンプルデータを含むraw_dataフォルダには同様な`Bi_arai_161024.txt`と同様の形式のファイルが後４つ入っています。これらに対して上でやった操作と同じ操作を適用するためにこの操作を関数化しておくと便利です。次のように作業フォルダ、色、グラフタイトルを引数にとる関数を定義してやると良いでしょう。"
   ]
  },
  {
   "cell_type": "code",
   "execution_count": 22,
   "metadata": {
    "collapsed": true
   },
   "outputs": [],
   "source": [
    "def toGraph(cur,color,name):\n",
    "    result=jh.differentiate(cur.get('pressure'),cur.get('resistivity'))\n",
    "    cur.add(result['df'],'dR/dpress')\n",
    "    cur.add(result['sorted_xs'],'sorted_pressure')\n",
    "    g=jh.GraphWindow()\n",
    "    ax=g.fig.add_subplot(211)\n",
    "    ax2=g.fig.add_subplot(212)\n",
    "    ax.set_title(name)\n",
    "    ax.plot(cur.get('pressure'),cur.get('resistivity'),'-o',color=color,mec='None',picker=5)\n",
    "    ax.set_xlabel('pressure/V')\n",
    "    ax.set_ylabel('Resistance/V')\n",
    "    ax2.plot(cur.get('sorted_pressure'),cur.get('dR/dpress'),'-',color='k',mec='None',picker=5)\n",
    "    ax2.set_ylabel('dR/dpress')\n",
    "    g.setWindowTitle(name)\n",
    "    cur.add(g)"
   ]
  },
  {
   "cell_type": "markdown",
   "metadata": {},
   "source": [
    "残りの４つのファイルをrootフォルダに読み込んでそれぞれに作業フォルダを設定してから上の関数を呼び出すことで同じ操作を適用することが出来ます。"
   ]
  },
  {
   "cell_type": "code",
   "execution_count": 20,
   "metadata": {
    "collapsed": true
   },
   "outputs": [],
   "source": [
    "r.cur.loadFiles()"
   ]
  },
  {
   "cell_type": "markdown",
   "metadata": {},
   "source": [
    "作業フォルダを`Bi_arai_161026.txt`に設定してください。"
   ]
  },
  {
   "cell_type": "code",
   "execution_count": 23,
   "metadata": {
    "collapsed": false,
    "scrolled": true
   },
   "outputs": [],
   "source": [
    "toGraph(r.cur,'b','Bi_second')"
   ]
  },
  {
   "cell_type": "markdown",
   "metadata": {},
   "source": [
    "作業フォルダを`Bi_arai_161031.txt`に設定してください。"
   ]
  },
  {
   "cell_type": "code",
   "execution_count": 25,
   "metadata": {
    "collapsed": false,
    "scrolled": true
   },
   "outputs": [],
   "source": [
    "toGraph(r.cur,'g','Bi_third')"
   ]
  },
  {
   "cell_type": "markdown",
   "metadata": {},
   "source": [
    "作業フォルダを`Te_arai_161018_ver6.txt`に設定してください。"
   ]
  },
  {
   "cell_type": "code",
   "execution_count": 26,
   "metadata": {
    "collapsed": false,
    "scrolled": false
   },
   "outputs": [],
   "source": [
    "toGraph(r.cur,'c','Te_first')"
   ]
  },
  {
   "cell_type": "markdown",
   "metadata": {
    "collapsed": true
   },
   "source": [
    "作業フォルダを`Te_arai_161102.txt`に設定してください。"
   ]
  },
  {
   "cell_type": "code",
   "execution_count": 27,
   "metadata": {
    "collapsed": false,
    "scrolled": true
   },
   "outputs": [],
   "source": [
    "toGraph(r.cur,'m','Te_second')"
   ]
  },
  {
   "cell_type": "markdown",
   "metadata": {},
   "source": [
    "### 3.2 フィッティング\n",
    "BiとTeの電気抵抗の跳びは構造相転移によるものです。それぞれについて複数回のrunの結果を平均して標準偏差を求め、２次元空間における重み付きのフィッティングを行ってみましょう。"
   ]
  },
  {
   "cell_type": "code",
   "execution_count": 3,
   "metadata": {
    "collapsed": false
   },
   "outputs": [],
   "source": [
    "import numpy as np\n",
    "Bi_first=np.array([[0.34184399,0.0073671806],\n",
    "                  [0.36881295,0.0031339758],\n",
    "                   [1.34416593,0.0028033748]])\n",
    "Bi_second=np.array([[0.32176141,0.0036031655],\n",
    "                    [0.35077007,0.0012848195],\n",
    "                    [1.29179838,0.0017429291]])\n",
    "Bi_third=np.array([[0.32647466,0.0473289645],\n",
    "                   [0.3582042,0.0096264855],\n",
    "                   [1.3089004,0.0063657301]])\n",
    "\n",
    "Te_first=np.array([[0.526322796,1.90673008]])\n",
    "Te_second=np.array([[0.56930603,2.73762661]])\n",
    "\n",
    "#Bi,Teそれぞれについての構造相転移点の電圧値とその標準偏差ｘ\n",
    "Bi_vol=(Bi_first[:,0]+Bi_second[:,0]+Bi_third[:,0])/3\n",
    "Bi_vol_error=np.array([np.std([Bi_first[0,0],Bi_second[0,0],Bi_third[0,0]]),np.std([Bi_first[1,0],Bi_second[1,0],Bi_third[1,0]]),\\\n",
    "                       np.std([Bi_first[2,0],Bi_second[2,0],Bi_third[2,0]])])\n",
    "Te_vol=(Te_first[:,0]+Te_second[:,0])/2\n",
    "Te_vol_error=np.array([np.std([Te_first[0,0],Te_second[0,0]])])\n",
    "\n",
    "#文献値と文献値の標準偏差\n",
    "Bi_lite=np.array([2.55,2.77,7.68])\n",
    "Bi_lite_error=np.array([0.006,0.005,0.01])\n",
    "Te_lite=np.array([4])\n",
    "Te_lite_error=np.array([0.2])"
   ]
  },
  {
   "cell_type": "markdown",
   "metadata": {},
   "source": [
    "Bi,Teの結果をまとめます。"
   ]
  },
  {
   "cell_type": "code",
   "execution_count": 4,
   "metadata": {
    "collapsed": true
   },
   "outputs": [],
   "source": [
    "x=np.r_[Bi_vol,Te_vol]\n",
    "y=np.r_[Bi_lite,Te_lite]\n",
    "x_e=np.r_[Bi_vol_error,Te_vol_error]\n",
    "y_e=np.r_[Bi_lite_error,Te_lite_error]"
   ]
  },
  {
   "cell_type": "markdown",
   "metadata": {},
   "source": [
    "以上によって２次元空間内の標準偏差付きの点の系列を定義できました。プロットしてみましょう。"
   ]
  },
  {
   "cell_type": "code",
   "execution_count": 5,
   "metadata": {
    "collapsed": false
   },
   "outputs": [
    {
     "data": {
      "text/plain": [
       "<matplotlib.legend.Legend at 0x1398b6576a0>"
      ]
     },
     "execution_count": 5,
     "metadata": {},
     "output_type": "execute_result"
    }
   ],
   "source": [
    "g=jh.GraphWindow()\n",
    "ax=g.fig.add_subplot(111)\n",
    "ax.errorbar(Bi_vol,Bi_lite,xerr=Bi_vol_error,yerr=Bi_lite_error,fmt='ro',markersize=4,ecolor='g',label='Bi')\n",
    "ax.errorbar(Te_vol,Te_lite,xerr=Te_vol_error,yerr=Te_lite_error,fmt='yo',markersize=4,ecolor='g',label='Te')\n",
    "ax.set_ylabel('pressure/GPa')\n",
    "ax.set_xlabel('voltage/V')\n",
    "ax.legend(loc='upper left')"
   ]
  },
  {
   "cell_type": "markdown",
   "metadata": {},
   "source": [
    "これらの点に対してフィッティングを行ってみましょう。フィッティングのためには関数と定義域、初期値が必要です。ここでは2次関数でフィッティングを行ってみます。まずは2次関数を定義します。"
   ]
  },
  {
   "cell_type": "code",
   "execution_count": 6,
   "metadata": {
    "collapsed": true
   },
   "outputs": [],
   "source": [
    "def quadratic(params,x):\n",
    "    return params[0]*x**2+params[1]*x+params[2]\n",
    "xlist=np.arange(-0.5,2,0.01)"
   ]
  },
  {
   "cell_type": "markdown",
   "metadata": {},
   "source": [
    "関数の引数に与えたparamsというlistが最適化するべきパラメータです。xlistは関数の定義域であり、-0.5から2.0までを幅0.01で区切ったリストを定義しています。この関数で先程の標準偏差付きのデータ点にフィッティングを行うには次のように`MyFitting.fit`を呼び出します。"
   ]
  },
  {
   "cell_type": "code",
   "execution_count": 7,
   "metadata": {
    "collapsed": false,
    "scrolled": false
   },
   "outputs": [
    {
     "name": "stderr",
     "output_type": "stream",
     "text": [
      "C:\\Users\\Yuki\\Dropbox\\python\\my_module_root\\jupyterhack\\jupyterhack\\MyFunctions.py:80: FutureWarning: comparison to `None` will result in an elementwise object comparison in the future.\n",
      "  if (x_e==None) or (y_e==None): #標準偏差が指定されない場合は全て同じ重みで計算\n"
     ]
    }
   ],
   "source": [
    "result=jh.MyFitting.fit(x,y,quadratic,xlist,[-1,4,0],x_e,y_e)"
   ]
  },
  {
   "cell_type": "code",
   "execution_count": 8,
   "metadata": {
    "collapsed": false
   },
   "outputs": [
    {
     "data": {
      "text/plain": [
       "{'function result': <function jupyterhack.MyFunctions.MyFitting.fit.<locals>.func_result>,\n",
       " 'graph': <jupyterhack.MyGraph.MyGraphWindow at 0x1398a76d1f8>,\n",
       " 'params result': array([ -1.07786671e+00,   7.24274448e+00,  -3.69405466e-03])}"
      ]
     },
     "execution_count": 8,
     "metadata": {},
     "output_type": "execute_result"
    }
   ],
   "source": [
    "result"
   ]
  },
  {
   "cell_type": "markdown",
   "metadata": {},
   "source": [
    "返り値にはフィッティング結果の関数やパラメータが入っています。"
   ]
  }
 ],
 "metadata": {
  "anaconda-cloud": {},
  "kernelspec": {
   "display_name": "Python [default]",
   "language": "python",
   "name": "python3"
  },
  "language_info": {
   "codemirror_mode": {
    "name": "ipython",
    "version": 3
   },
   "file_extension": ".py",
   "mimetype": "text/x-python",
   "name": "python",
   "nbconvert_exporter": "python",
   "pygments_lexer": "ipython3",
   "version": "3.5.2"
  }
 },
 "nbformat": 4,
 "nbformat_minor": 1
}
